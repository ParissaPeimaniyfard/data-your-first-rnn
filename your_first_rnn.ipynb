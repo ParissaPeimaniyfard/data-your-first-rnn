{
 "cells": [
  {
   "cell_type": "markdown",
   "metadata": {},
   "source": [
    "# Your first Recurrent Neural Network (RNN)"
   ]
  },
  {
   "cell_type": "markdown",
   "metadata": {},
   "source": [
    "🙌 Welcome to RNNs! After using CNNs in the previous lesson to deal with images (spatial data), you are going to deal with time-related data (***temporal data***).\n",
    "\n",
    "🎯 Goals of this warm-up challenge:\n",
    "\n",
    "1. Understand what temporal data is\n",
    "2. Build your first Recurrent Neural Networks\n",
    "\n"
   ]
  },
  {
   "cell_type": "markdown",
   "metadata": {},
   "source": [
    "## A Note on Google Colab"
   ]
  },
  {
   "cell_type": "markdown",
   "metadata": {},
   "source": [
    "From now on, you no longer need to use Google Colab. There will be **no performance gains** from using it, as today's machines are powerful enough to tackle this challenge — especially if you're on a MacBook with an MX chip! 😉\n",
    "\n",
    "Proceed with the challenge as you normally would with Jupyter Notebook (❌ Do not use Colab ❌)\n",
    "\n",
    "Good luck! 🚀"
   ]
  },
  {
   "cell_type": "markdown",
   "metadata": {},
   "source": [
    "## (1) 📚 The dataset"
   ]
  },
  {
   "cell_type": "markdown",
   "metadata": {},
   "source": [
    "_Disclaimer: nothing to code by yourself in this section, read it carefully and run the cells. We want you to focus on the RNN and LSTM models, not some Pythonesque questions_ 😉"
   ]
  },
  {
   "cell_type": "markdown",
   "metadata": {},
   "source": [
    "🔢 Imagine that we have access to some data about employees in a company."
   ]
  },
  {
   "cell_type": "code",
   "execution_count": 1,
   "metadata": {},
   "outputs": [],
   "source": [
    "import numpy as np\n",
    "\n",
    "X = np.load('X.npy')\n",
    "y = np.load('y.npy')"
   ]
  },
  {
   "cell_type": "code",
   "execution_count": 2,
   "metadata": {},
   "outputs": [
    {
     "data": {
      "text/plain": [
       "((25000, 10, 3), (25000,))"
      ]
     },
     "execution_count": 2,
     "metadata": {},
     "output_type": "execute_result"
    }
   ],
   "source": [
    "X.shape, y.shape"
   ]
  },
  {
   "cell_type": "markdown",
   "metadata": {},
   "source": [
    "☝️ The dataset describes the evolution of the **employment status of 25 000 employees, year after year**: each sequence corresponds to 10 consecutive years, where each year describes a job situation, comprising 3 components\n",
    "- the salary,\n",
    "- the number of people under someone's responsibility,\n",
    "- the size of the company. \n",
    "\n",
    "🕵🏻 To understand the dataset a bit better, let's look at the data of the first employee."
   ]
  },
  {
   "cell_type": "code",
   "execution_count": 3,
   "metadata": {
    "scrolled": true
   },
   "outputs": [
    {
     "data": {
      "text/html": [
       "<div>\n",
       "<style scoped>\n",
       "    .dataframe tbody tr th:only-of-type {\n",
       "        vertical-align: middle;\n",
       "    }\n",
       "\n",
       "    .dataframe tbody tr th {\n",
       "        vertical-align: top;\n",
       "    }\n",
       "\n",
       "    .dataframe thead th {\n",
       "        text-align: right;\n",
       "    }\n",
       "</style>\n",
       "<table border=\"1\" class=\"dataframe\">\n",
       "  <thead>\n",
       "    <tr style=\"text-align: right;\">\n",
       "      <th></th>\n",
       "      <th>salary</th>\n",
       "      <th>responsibility</th>\n",
       "      <th>company_size</th>\n",
       "    </tr>\n",
       "  </thead>\n",
       "  <tbody>\n",
       "    <tr>\n",
       "      <th>0</th>\n",
       "      <td>0.80</td>\n",
       "      <td>10.73</td>\n",
       "      <td>102.0</td>\n",
       "    </tr>\n",
       "    <tr>\n",
       "      <th>1</th>\n",
       "      <td>0.50</td>\n",
       "      <td>10.73</td>\n",
       "      <td>102.0</td>\n",
       "    </tr>\n",
       "    <tr>\n",
       "      <th>2</th>\n",
       "      <td>0.60</td>\n",
       "      <td>10.73</td>\n",
       "      <td>102.0</td>\n",
       "    </tr>\n",
       "    <tr>\n",
       "      <th>3</th>\n",
       "      <td>0.71</td>\n",
       "      <td>10.73</td>\n",
       "      <td>130.0</td>\n",
       "    </tr>\n",
       "    <tr>\n",
       "      <th>4</th>\n",
       "      <td>0.94</td>\n",
       "      <td>10.73</td>\n",
       "      <td>130.0</td>\n",
       "    </tr>\n",
       "    <tr>\n",
       "      <th>5</th>\n",
       "      <td>1.05</td>\n",
       "      <td>10.73</td>\n",
       "      <td>130.0</td>\n",
       "    </tr>\n",
       "    <tr>\n",
       "      <th>6</th>\n",
       "      <td>1.12</td>\n",
       "      <td>32.00</td>\n",
       "      <td>108.0</td>\n",
       "    </tr>\n",
       "    <tr>\n",
       "      <th>7</th>\n",
       "      <td>4.87</td>\n",
       "      <td>32.00</td>\n",
       "      <td>108.0</td>\n",
       "    </tr>\n",
       "    <tr>\n",
       "      <th>8</th>\n",
       "      <td>4.97</td>\n",
       "      <td>33.00</td>\n",
       "      <td>108.0</td>\n",
       "    </tr>\n",
       "    <tr>\n",
       "      <th>9</th>\n",
       "      <td>5.20</td>\n",
       "      <td>39.00</td>\n",
       "      <td>108.0</td>\n",
       "    </tr>\n",
       "  </tbody>\n",
       "</table>\n",
       "</div>"
      ],
      "text/plain": [
       "   salary  responsibility  company_size\n",
       "0    0.80           10.73         102.0\n",
       "1    0.50           10.73         102.0\n",
       "2    0.60           10.73         102.0\n",
       "3    0.71           10.73         130.0\n",
       "4    0.94           10.73         130.0\n",
       "5    1.05           10.73         130.0\n",
       "6    1.12           32.00         108.0\n",
       "7    4.87           32.00         108.0\n",
       "8    4.97           33.00         108.0\n",
       "9    5.20           39.00         108.0"
      ]
     },
     "execution_count": 3,
     "metadata": {},
     "output_type": "execute_result"
    }
   ],
   "source": [
    "import pandas as pd\n",
    "\n",
    "employee_0 = pd.DataFrame(X[0],\n",
    "                          columns=['salary',\n",
    "                                   'responsibility',\n",
    "                                   'company_size'])\n",
    "round(employee_0,2)"
   ]
  },
  {
   "cell_type": "code",
   "execution_count": 6,
   "metadata": {
    "scrolled": true
   },
   "outputs": [
    {
     "data": {
      "text/plain": [
       "25000"
      ]
     },
     "execution_count": 6,
     "metadata": {},
     "output_type": "execute_result"
    }
   ],
   "source": [
    "len(X)"
   ]
  },
  {
   "cell_type": "markdown",
   "metadata": {},
   "source": [
    "🎯 The goal in this challenge is to predict the montly salary on the 11th year for each of these 25,000 employees, based on the past observations."
   ]
  },
  {
   "cell_type": "code",
   "execution_count": 11,
   "metadata": {},
   "outputs": [
    {
     "data": {
      "text/plain": [
       "6.499"
      ]
     },
     "execution_count": 11,
     "metadata": {},
     "output_type": "execute_result"
    }
   ],
   "source": [
    "# For example, the first employee earns 6.499 k USD per month\n",
    "# during the 11th year at the company\n",
    "y[0]"
   ]
  },
  {
   "cell_type": "code",
   "execution_count": null,
   "metadata": {},
   "outputs": [],
   "source": []
  },
  {
   "cell_type": "markdown",
   "metadata": {},
   "source": [
    "📈 To help you get a better understanding about the evolution of the salaries, the number of people under their responsibility and the company size over the years, you can run the cell down below. Can you visually detect some correlations between these three variables?"
   ]
  },
  {
   "cell_type": "code",
   "execution_count": 7,
   "metadata": {
    "collapsed": true
   },
   "outputs": [
    {
     "data": {
      "image/png": "[encoded data removed]",
      "text/plain": [
       "<Figure size 640x480 with 1 Axes>"
      ]
     },
     "metadata": {},
     "output_type": "display_data"
    },
    {
     "data": {
      "image/png": "[encoded data removed]",
      "text/plain": [
       "<Figure size 640x480 with 1 Axes>"
      ]
     },
     "metadata": {},
     "output_type": "display_data"
    },
    {
     "data": {
      "image/png": "[encoded data removed]",
      "text/plain": [
       "<Figure size 640x480 with 1 Axes>"
      ]
     },
     "metadata": {},
     "output_type": "display_data"
    }
   ],
   "source": [
    "import matplotlib.pyplot as plt\n",
    "%matplotlib inline\n",
    "\n",
    "number_of_employees = len(X)\n",
    "\n",
    "### Choosing random employees\n",
    "##### As the employees are selected randomly, feel free to re-run this cell a few times !\n",
    "\n",
    "number_of_randomly_selected_employees = 5\n",
    "\n",
    "random_selection = np.random.randint(0, \n",
    "                                     number_of_employees,\n",
    "                                     number_of_randomly_selected_employees)\n",
    "\n",
    "\n",
    "### Plotting data for the selected employees\n",
    "\n",
    "plt.title('Salary')\n",
    "for r in random_selection:\n",
    "    plt.plot(X[r, :, 0],label=f\"Employee number {r}\",linestyle=\":\",marker=\"o\")\n",
    "    plt.legend(loc='upper left')\n",
    "plt.show()\n",
    "\n",
    "plt.title('# People responsibile for')\n",
    "for r in random_selection:\n",
    "    plt.plot(X[r, :, 1],label=f\"Employee number {r}\",linestyle=\":\",marker=\"o\")\n",
    "    plt.legend(loc='upper left')\n",
    "plt.show()\n",
    "\n",
    "plt.title('Company sizes')\n",
    "for r in random_selection:\n",
    "    plt.plot(X[r, :, 2],label=f\"Employee number {r}\",linestyle=\":\",marker=\"o\")\n",
    "    plt.legend(loc='upper left')\n",
    "plt.show()"
   ]
  },
  {
   "cell_type": "markdown",
   "metadata": {},
   "source": [
    "🕵🏻 **Data Exploration** 🕵🏻 Look at the distribution of:\n",
    "* all the salaries during the 10th year, \n",
    "* people under someone's responsibility, \n",
    "* and the company sizes \n",
    "\n",
    "to get a better understanding of the variability of observations"
   ]
  },
  {
   "cell_type": "code",
   "execution_count": 8,
   "metadata": {
    "collapsed": true
   },
   "outputs": [
    {
     "data": {
      "image/png": "[encoded data removed]",
      "text/plain": [
       "<Figure size 640x480 with 1 Axes>"
      ]
     },
     "metadata": {},
     "output_type": "display_data"
    },
    {
     "data": {
      "image/png": "[encoded data removed]",
      "text/plain": [
       "<Figure size 640x480 with 1 Axes>"
      ]
     },
     "metadata": {},
     "output_type": "display_data"
    },
    {
     "data": {
      "image/png": "[encoded data removed]",
      "text/plain": [
       "<Figure size 640x480 with 1 Axes>"
      ]
     },
     "metadata": {},
     "output_type": "display_data"
    }
   ],
   "source": [
    "import seaborn as sns\n",
    "\n",
    "plt.title(\"Salaries on the 10th year\")\n",
    "sns.histplot(X[:, -1, 0].flatten()) # all the employees, last year, feature #0 = salaries\n",
    "plt.show()\n",
    "\n",
    "plt.title(\"# of people under someone's responsibility\")\n",
    "sns.histplot(X[:, :, 1].flatten()) # all the employees, all the years, feature #1 = responsabilities\n",
    "plt.show()\n",
    "\n",
    "plt.title(\"Company size\")\n",
    "sns.histplot(X[:, :, 2].flatten()) # all the employees, all the years, feature #2 = company size\n",
    "plt.show()"
   ]
  },
  {
   "cell_type": "markdown",
   "metadata": {},
   "source": [
    "✂️ **Hold-out method** Let's split the dataset in a train and test set (80/20)"
   ]
  },
  {
   "cell_type": "code",
   "execution_count": 9,
   "metadata": {},
   "outputs": [],
   "source": [
    "from sklearn.model_selection import train_test_split\n",
    "\n",
    "X_train, X_test, y_train, y_test = train_test_split(X, y, test_size=0.20)\n",
    "\n",
    "# Notice that we are train_test_splitting the 25 000 employees!"
   ]
  },
  {
   "cell_type": "markdown",
   "metadata": {},
   "source": [
    "## (2) 💻 A Simple RNN"
   ]
  },
  {
   "cell_type": "markdown",
   "metadata": {},
   "source": [
    "🤗 Now that you are familiar with this company's dataset, you will create your first Recurrent Neural Network. Let's start with a simple architecture."
   ]
  },
  {
   "cell_type": "markdown",
   "metadata": {},
   "source": [
    "❓ **Question** ❓ Write a model that has: \n",
    "- a ***Normalization*** layer adapted to the training set\n",
    "- a ***SimpleRNN*** layer with 20 *units* (don't forget that `tanh` is better suited as an activation function for a Recurrent Layer)\n",
    "- a ***Dense*** layer with 10 neurons\n",
    "- a ***Dense*** layer specific to your task (= to ***predict*** a salary)\n",
    "\n",
    "👩🏻‍🏫 <u>Remember</u>: You don't need to specify an `input_shape`: as soon as your Normalizer has been adapted to your train set, it has memorized the input shape!"
   ]
  },
  {
   "cell_type": "code",
   "execution_count": 16,
   "metadata": {},
   "outputs": [],
   "source": [
    "from tensorflow.keras.layers import Normalization\n",
    "from tensorflow.keras.models import Sequential\n",
    "from tensorflow.keras import models, layers\n",
    "from tensorflow.keras.layers import Dense, SimpleRNN, Flatten"
   ]
  },
  {
   "cell_type": "code",
   "execution_count": 34,
   "metadata": {},
   "outputs": [],
   "source": [
    "norm= Normalization()\n",
    "norm.adapt(X_train)"
   ]
  },
  {
   "cell_type": "code",
   "execution_count": 35,
   "metadata": {
    "tags": [
     "challengify"
    ]
   },
   "outputs": [],
   "source": [
    "model= Sequential()\n",
    "model.add(norm)\n",
    "model.add(layers.SimpleRNN(units=20, activation='tanh'))\n",
    "model.add(layers.Dense(10, activation='linear'))\n",
    "model.add(layers.Dense(1, 'linear'))"
   ]
  },
  {
   "cell_type": "code",
   "execution_count": 21,
   "metadata": {
    "collapsed": true
   },
   "outputs": [
    {
     "name": "stdout",
     "output_type": "stream",
     "text": [
      "Model: \"sequential_1\"\n",
      "_________________________________________________________________\n",
      " Layer (type)                Output Shape              Param #   \n",
      "=================================================================\n",
      " normalization_1 (Normalizat  (None, 10, 3)            7         \n",
      " ion)                                                            \n",
      "                                                                 \n",
      " simple_rnn_1 (SimpleRNN)    (None, 20)                480       \n",
      "                                                                 \n",
      " dense_2 (Dense)             (None, 10)                210       \n",
      "                                                                 \n",
      " dense_3 (Dense)             (None, 1)                 11        \n",
      "                                                                 \n",
      "=================================================================\n",
      "Total params: 708\n",
      "Trainable params: 701\n",
      "Non-trainable params: 7\n",
      "_________________________________________________________________\n"
     ]
    }
   ],
   "source": [
    "model.summary()"
   ]
  },
  {
   "cell_type": "markdown",
   "metadata": {},
   "source": [
    "❓ **Question**: How many trainable parameters does your RNN have ❓"
   ]
  },
  {
   "cell_type": "code",
   "execution_count": 19,
   "metadata": {
    "tags": [
     "challengify"
    ]
   },
   "outputs": [
    {
     "data": {
      "text/plain": [
       "708"
      ]
     },
     "execution_count": 19,
     "metadata": {},
     "output_type": "execute_result"
    }
   ],
   "source": [
    "708"
   ]
  },
  {
   "cell_type": "markdown",
   "metadata": {},
   "source": [
    "❓ **Question** ❓ Try to recompute the number of parameters manually.\n"
   ]
  },
  {
   "cell_type": "markdown",
   "metadata": {
    "tags": [
     "challengify"
    ]
   },
   "source": [
    "> YOUR ANSWER HERE"
   ]
  },
  {
   "cell_type": "markdown",
   "metadata": {},
   "source": [
    "<details>\n",
    "    <summary><i>Answer</i></summary>\n",
    "\n",
    "\n",
    "- <u> Normalization Layer</u>: \n",
    "    - This layer has $\\color{red}{n_x = 3} $ features (salary, responsibility, company size) to normalize. Each of them requires to compute the <font color=blue>_mean_</font>  and the <font color=blue>_standard_deviation_</font>. So we have $\\color{red}{n_x = 3} \\times \\color{blue}{2} = 6$ non-trainable parameters. The 7th parameter is a bias initially set to 0.\n",
    "\n",
    "- <u> Recurrent Layer</u>: \n",
    "    - If $\\color{green}{n_h = 20} $ RNN units are applied in parallel to $\\color{red}{n_x = 3} $ features, then the Recurrent Layer has $\\color{green}{n_h}(\\color{green}{n_h} + \\color{red}{n_x} + 1) = \\color{green}{20} \\times (\\color{green}{20}+\\color{red}{3}+1) = \\color{green}{20} \\times 24 = 480$ parameters to train.\n",
    "    - Notice how this number is *independent* of the length of each sequence (here 10 days)\n",
    "    \n",
    "- <u> Dense Layer</u>: \n",
    "    - Starting with $\\color{green}{n_h = 20} $ RNN units and $1$ bias, using 10 neurons, the Dense Layer has $ (\\color{green}{20}+1) \\times 10 = 21 \\times 10 = 210$ parameters\n",
    "    \n",
    "- <u> Predictive Dense Layer</u>: \n",
    "    - Starting with $10$ neurons and $1$ bias, using 1 neuron to predict the 11th salary, the Predictive Dense Layer has $ (10+1) \\times 1 = 11 \\times 1 = 11$ parameters\n",
    "    \n",
    "</details>    "
   ]
  },
  {
   "cell_type": "markdown",
   "metadata": {},
   "source": [
    "❓ **Question** ❓ Compile your model. For RNN, we recommend you to use the ***rmsprop*** optimizer (instead of *adam*)."
   ]
  },
  {
   "cell_type": "code",
   "execution_count": 36,
   "metadata": {
    "tags": [
     "challengify"
    ]
   },
   "outputs": [],
   "source": [
    "model.compile(loss='mse', optimizer= 'rmsprop', metrics='mae')"
   ]
  },
  {
   "cell_type": "markdown",
   "metadata": {},
   "source": [
    "❓ **Questions** ❓ \n",
    "\n",
    "* Train your model on your training dataset:\n",
    "    * use a Validation Split of 20%\n",
    "    * and an Early Stopping Criterion with patience $= 5 $\n",
    "* Evaluate your performance on the test set"
   ]
  },
  {
   "cell_type": "code",
   "execution_count": 29,
   "metadata": {},
   "outputs": [],
   "source": [
    "from tensorflow.keras.callbacks import EarlyStopping"
   ]
  },
  {
   "cell_type": "code",
   "execution_count": 57,
   "metadata": {
    "tags": [
     "challengify"
    ]
   },
   "outputs": [
    {
     "name": "stdout",
     "output_type": "stream",
     "text": [
      "Epoch 1/200\n",
      "320/320 [==============================] - 1s 2ms/step - loss: 0.6375 - mae: 0.3241 - val_loss: 0.5854 - val_mae: 0.2764\n",
      "Epoch 2/200\n",
      "320/320 [==============================] - 1s 2ms/step - loss: 0.6394 - mae: 0.3227 - val_loss: 0.5741 - val_mae: 0.2590\n",
      "Epoch 3/200\n",
      "320/320 [==============================] - 1s 2ms/step - loss: 0.6351 - mae: 0.3240 - val_loss: 0.5614 - val_mae: 0.2544\n",
      "Epoch 4/200\n",
      "320/320 [==============================] - 1s 3ms/step - loss: 0.6282 - mae: 0.3198 - val_loss: 0.7515 - val_mae: 0.5632\n",
      "Epoch 5/200\n",
      "320/320 [==============================] - 1s 2ms/step - loss: 0.6289 - mae: 0.3233 - val_loss: 0.5603 - val_mae: 0.2706\n",
      "Epoch 6/200\n",
      "320/320 [==============================] - 1s 2ms/step - loss: 0.6184 - mae: 0.3206 - val_loss: 0.7612 - val_mae: 0.5518\n",
      "Epoch 7/200\n",
      "320/320 [==============================] - 1s 2ms/step - loss: 0.6182 - mae: 0.3244 - val_loss: 0.5937 - val_mae: 0.3546\n",
      "Epoch 8/200\n",
      "320/320 [==============================] - 1s 2ms/step - loss: 0.6185 - mae: 0.3264 - val_loss: 0.6307 - val_mae: 0.4078\n",
      "Epoch 9/200\n",
      "320/320 [==============================] - 1s 3ms/step - loss: 0.6199 - mae: 0.3220 - val_loss: 0.5705 - val_mae: 0.2784\n",
      "Epoch 10/200\n",
      "320/320 [==============================] - 1s 3ms/step - loss: 0.6199 - mae: 0.3180 - val_loss: 0.5635 - val_mae: 0.2684\n"
     ]
    },
    {
     "data": {
      "text/plain": [
       "<keras.callbacks.History at 0x7efb3ea8e6e0>"
      ]
     },
     "execution_count": 57,
     "metadata": {},
     "output_type": "execute_result"
    }
   ],
   "source": [
    "es= EarlyStopping(patience=5)\n",
    "model.fit(X_train, y_train, validation_split=0.2, callbacks=[es], epochs=200, batch_size=50)"
   ]
  },
  {
   "cell_type": "code",
   "execution_count": 72,
   "metadata": {},
   "outputs": [
    {
     "name": "stdout",
     "output_type": "stream",
     "text": [
      "157/157 [==============================] - 0s 1ms/step - loss: 0.6257 - mae: 0.2703\n"
     ]
    },
    {
     "data": {
      "text/plain": [
       "[0.6257397532463074, 0.2702574133872986]"
      ]
     },
     "execution_count": 72,
     "metadata": {},
     "output_type": "execute_result"
    }
   ],
   "source": [
    "model.evaluate(X_test, y_test)"
   ]
  },
  {
   "cell_type": "markdown",
   "metadata": {},
   "source": [
    "## (3) 💻 Baseline comparison"
   ]
  },
  {
   "cell_type": "markdown",
   "metadata": {},
   "source": [
    "> ❗️ **Important reminder** ❗️ \n",
    ">  \n",
    "> ***Always remember to compare your Deep Learning models, and more generally any Machine Learning model, to a baseline model.***\n",
    "\n",
    "🧑🏻‍🏫 Remember that our goal is to predict the salary of the employees for the 11th year. It is a ***Regression task***. What baseline could we build? \n",
    "1. In the case of a traditional regression model, a baseline prediction for `y_test` is  to **predict the average of `y_train`**... but this option could be irrelevant for time-related series. Theoretically, someone's salary is supposed to increase over the years!\n",
    "2. An alternative baseline prediction for a regression task is to **predict the last seen value**"
   ]
  },
  {
   "cell_type": "markdown",
   "metadata": {},
   "source": [
    "❓ **Questions** ❓ \n",
    "* Compute the Mean Absolute Error of a baseline model that predicts that the salary remains constant between the 10-th and 11-th year\n",
    "* Compare this baseline model to your RNN"
   ]
  },
  {
   "cell_type": "code",
   "execution_count": 64,
   "metadata": {},
   "outputs": [
    {
     "data": {
      "text/plain": [
       "5.199"
      ]
     },
     "execution_count": 64,
     "metadata": {},
     "output_type": "execute_result"
    }
   ],
   "source": [
    "X[0][-1][0]"
   ]
  },
  {
   "cell_type": "code",
   "execution_count": 65,
   "metadata": {},
   "outputs": [
    {
     "data": {
      "text/plain": [
       "6.499"
      ]
     },
     "execution_count": 65,
     "metadata": {},
     "output_type": "execute_result"
    }
   ],
   "source": [
    "y[0]"
   ]
  },
  {
   "cell_type": "code",
   "execution_count": 38,
   "metadata": {
    "tags": [
     "challengify"
    ]
   },
   "outputs": [],
   "source": [
    "def constant_prediction(X, y):\n",
    "    errors = []\n",
    "    for xx, yy in zip(X, y):\n",
    "        last_salary = xx[-1][0]        # Using the 10th salary to predict the 11th salary\n",
    "        errors.append(yy - last_salary)\n",
    "\n",
    "    return errors"
   ]
  },
  {
   "cell_type": "code",
   "execution_count": 40,
   "metadata": {},
   "outputs": [],
   "source": [
    "base_line_error= constant_prediction(X, y)"
   ]
  },
  {
   "cell_type": "code",
   "execution_count": 66,
   "metadata": {
    "collapsed": true
   },
   "outputs": [
    {
     "data": {
      "text/plain": [
       "[1.300000118255615,\n",
       " 0.08899990844726524,\n",
       " 0.07299990081787122,\n",
       " 0.13700005722045905,\n",
       " 0.10900008773803727,\n",
       " 0.1030002441406257,\n",
       " 0.045999950408935675,\n",
       " 0.059000038146972855,\n",
       " 0.13200022888183582,\n",
       " 0.50100004196167,\n",
       " 0.07399989128112772,\n",
       " 5.534999954223633,\n",
       " 0.08800003242492682,\n",
       " -0.01599997329711922,\n",
       " 0.5379999637603761,\n",
       " 0.1010000238418578,\n",
       " 0.07899994182586667,\n",
       " 0.10899998855590831,\n",
       " 0.08100025177001946,\n",
       " 0.09100008964538553,\n",
       " 0.03000006866455074,\n",
       " 1.1739999446868898,\n",
       " 2.113999988555908,\n",
       " 0.059000125885010135,\n",
       " 0.06599993515014635,\n",
       " 1.492999910354614,\n",
       " 0.025000051498413,\n",
       " 1.7950001907348634,\n",
       " 2.7279999952316283,\n",
       " 0.5640000839233399,\n",
       " 4.825000106811524,\n",
       " 0.11100005149841308,\n",
       " 0.06999997138977054,\n",
       " -0.020000011444091692,\n",
       " 0.12900011253356913,\n",
       " 0.09899993896484371,\n",
       " 0.055000054359436,\n",
       " 0.07199994182586678,\n",
       " 0.03900004577636729,\n",
       " 0.1500001049041746,\n",
       " 0.10599996566772463,\n",
       " 0.12400001621246337,\n",
       " -0.004999710083007258,\n",
       " 0.02699996757507339,\n",
       " 0.4290000495910644,\n",
       " 0.07299995326995856,\n",
       " -0.04200005340576185,\n",
       " 0.13399990272521967,\n",
       " 0.10099964141845774,\n",
       " 0.14399995040893554,\n",
       " 0.14599995803833,\n",
       " 0.06599993133544935,\n",
       " 2.397000419616699,\n",
       " 0.14300000000000002,\n",
       " 0.09899980163574185,\n",
       " 0.06999997520446777,\n",
       " -0.04599999046325687,\n",
       " 0.064999994277954,\n",
       " 0.15099989318847662,\n",
       " 0.11699985122680623,\n",
       " 0.15399995422363277,\n",
       " 0.004000118255615082,\n",
       " 0.05599990844726577,\n",
       " 0.015999786376952763,\n",
       " 0.11100003051757823,\n",
       " 0.1670000877380371,\n",
       " 0.06600004673004145,\n",
       " 0.13500020599365214,\n",
       " 0.12799999046325672,\n",
       " 0.1350000267028808,\n",
       " 0.11999996185302741,\n",
       " 0.08400008392333991,\n",
       " 0.13900006294250478,\n",
       " 0.09699999618530253,\n",
       " 0.08699994277954115,\n",
       " 0.15100008964538558,\n",
       " -0.011999816894531001,\n",
       " 1.1460000162124633,\n",
       " 0.06600000953674323,\n",
       " -0.12399998283386227,\n",
       " 0.06700091552734477,\n",
       " 0.10199977111816416,\n",
       " -0.010999893188476495,\n",
       " 0.09899995040893561,\n",
       " 0.19400042724609357,\n",
       " 0.10300020599365212,\n",
       " 0.033999980926513906,\n",
       " 0.14000000572204607,\n",
       " 0.09600008392333947,\n",
       " 0.3659998817443846,\n",
       " 0.735000183105468,\n",
       " 0.11700021743774425,\n",
       " 6.142000031471253,\n",
       " 0.08099999999999996,\n",
       " 0.18699971008300764,\n",
       " 0.01999964141845645,\n",
       " 0.07800010108947752,\n",
       " 0.11700005435943606,\n",
       " 0.8910000581741331,\n",
       " -1.8469998435974122,\n",
       " 0.07299998378753658,\n",
       " 0.1579999494552613,\n",
       " 0.07200009155273435,\n",
       " 0.0380000629425048,\n",
       " 0.04599993896484378,\n",
       " 1.4650004577636722,\n",
       " 0.08999998188018798,\n",
       " 0.11200001811981197,\n",
       " 0.17700022125244175,\n",
       " 0.11999991226196283,\n",
       " 0.1609999446868895,\n",
       " 0.05399990463256854,\n",
       " 0.5439999961853026,\n",
       " 0.14500003433227526,\n",
       " 0.20800010871887187,\n",
       " 0.08300002288818353,\n",
       " 0.10699974060058537,\n",
       " 0.2109999904632569,\n",
       " -0.028000006675720224,\n",
       " 0.2330000200271607,\n",
       " 6.40700004196167,\n",
       " 0.10200021743774457,\n",
       " 0.026000003814697248,\n",
       " 0.5710000085830687,\n",
       " 0.1289999618530273,\n",
       " 0.10599994659423828,\n",
       " 2.2260001983642574,\n",
       " 0.10399996471405037,\n",
       " 3.2589993133544937,\n",
       " 0.04100003051757817,\n",
       " 0.09200004386901872,\n",
       " 0.805000343322753,\n",
       " 0.09800008773803714,\n",
       " 1.437999952316284,\n",
       " 0.09799988937377924,\n",
       " 0.1650000009536745,\n",
       " 0.0739999809265135,\n",
       " 0.09500003337860097,\n",
       " 0.09499955749511635,\n",
       " 0.08599989318847712,\n",
       " 1.0969995880126948,\n",
       " 0.05900018310546784,\n",
       " 0.11500004291534416,\n",
       " 0.03400006103515629,\n",
       " 0.0789999237060548,\n",
       " 0.11699999618530255,\n",
       " -0.0030000438690187536,\n",
       " 1.0819999542236332,\n",
       " 0.16599969482421884,\n",
       " 0.10900006484985347,\n",
       " 6.524000038146973,\n",
       " 0.11900019454956023,\n",
       " 0.030999851226806818,\n",
       " 0.1409998931884764,\n",
       " 0.14399988365173355,\n",
       " 0.5970000476837156,\n",
       " 0.11100036621093778,\n",
       " 0.1649999198913572,\n",
       " 0.07500016403198284,\n",
       " 0.10500008201599131,\n",
       " 0.1970000190734864,\n",
       " 0.10300011444091783,\n",
       " 0.08899988746643084,\n",
       " 0.07600002193450939,\n",
       " -0.0340000076293947,\n",
       " 0.10900001811981208,\n",
       " 0.13199994087219258,\n",
       " 0.568000009536743,\n",
       " 0.10699992370605482,\n",
       " 0.0950001525878914,\n",
       " 0.04400008201599137,\n",
       " 0.11500023651123037,\n",
       " -0.16599993705749494,\n",
       " 0.006999979019164826,\n",
       " 1.0349999799728393,\n",
       " 0.09399997329711907,\n",
       " 1.3810002212524406,\n",
       " 0.08100033569335885,\n",
       " 0.11300005149841308,\n",
       " 0.326999927520752,\n",
       " 0.16199999618530292,\n",
       " 0.10499996948242196,\n",
       " 0.062000213623043976,\n",
       " 0.12300002288818401,\n",
       " 0.10099995422363284,\n",
       " 0.015000052452087465,\n",
       " 0.007000122070312642,\n",
       " 0.08200002861022959,\n",
       " 0.22399989509582507,\n",
       " 0.051000190734863615,\n",
       " -0.04199997234344477,\n",
       " 0.123,\n",
       " 0.018000930786133296,\n",
       " 0.5310010986328138,\n",
       " 0.09599998092651374,\n",
       " 1.2030001525878902,\n",
       " 0.10900000381469699,\n",
       " 0.47800004577636734,\n",
       " 0.10199960327148361,\n",
       " 0.004999891281127766,\n",
       " 0.09799993515014638,\n",
       " 5.177000083923339,\n",
       " 0.2719998054504398,\n",
       " 0.18299977111816368,\n",
       " 0.01500002670288092,\n",
       " 0.13599999618530267,\n",
       " 0.019000217437744382,\n",
       " 0.09899998283386235,\n",
       " 0.13000000572204584,\n",
       " -0.16300009536743154,\n",
       " 0.16499985504150416,\n",
       " 0.13800009918212908,\n",
       " 0.1130001983642579,\n",
       " 0.14299986267089881,\n",
       " 0.10599999809265137,\n",
       " 0.08999994087219232,\n",
       " 0.07500016021728495,\n",
       " 0.22700005245208743,\n",
       " 0.0539999389648429,\n",
       " 1.0660001449584957,\n",
       " 0.1629999608993531,\n",
       " 0.12100004005432119,\n",
       " 0.16300001525878915,\n",
       " 0.05799994945526121,\n",
       " 0.15900004386901845,\n",
       " 0.5430000667572021,\n",
       " 1.310999991416931,\n",
       " 0.042999976158142106,\n",
       " -0.34899990653991697,\n",
       " 0.1440000247955322,\n",
       " 0.12999994277954108,\n",
       " 0.18999998474121105,\n",
       " 0.0909999771118164,\n",
       " 0.11600020980834991,\n",
       " 0.09500005149841328,\n",
       " 0.1299998893737797,\n",
       " 0.06400007820129394,\n",
       " 4.728000068664551,\n",
       " 0.0759999876022337,\n",
       " 0.16499987030029217,\n",
       " 0.1340000267028807,\n",
       " 2.6169999065399168,\n",
       " 0.1500003433227537,\n",
       " 0.16099988555908196,\n",
       " 0.10300007629394514,\n",
       " 0.11800003814697213,\n",
       " 1.7260000362396237,\n",
       " 0.11200011062622073,\n",
       " 0.0649999542236328,\n",
       " 0.10700002384185803,\n",
       " 0.005999921798705898,\n",
       " -4.135000228881836,\n",
       " 0.10000002574920663,\n",
       " 0.17799997520446786,\n",
       " 0.8750003585815431,\n",
       " 0.1470002441406244,\n",
       " 0.11399994659423829,\n",
       " -0.025000190734862926,\n",
       " -0.020000002861022992,\n",
       " 0.05699945068359469,\n",
       " 0.17799991607665966,\n",
       " 0.09700008392333981,\n",
       " 0.11700003910064694,\n",
       " 0.2069999675750731,\n",
       " -0.007999933242798019,\n",
       " 2.091999053955078,\n",
       " 1.431999982833862,\n",
       " 0.07900079345703048,\n",
       " 0.1370002326965336,\n",
       " 0.2099998703002921,\n",
       " 1.0930000686645505,\n",
       " 0.2039999589920043,\n",
       " 0.03800011444091789,\n",
       " -1.7759999542236329,\n",
       " -2.7010001602172853,\n",
       " -0.7039999465942381,\n",
       " 0.01599997711181622,\n",
       " 0.11500002193450931,\n",
       " 0.048000023841857864,\n",
       " 0.02400000000000002,\n",
       " 0.1879995651245121,\n",
       " 0.16499993705749505,\n",
       " 0.13000005722045938,\n",
       " 1.9759999732971192,\n",
       " 0.17099998188018795,\n",
       " 0.08399989700317345,\n",
       " 0.1009999389648435,\n",
       " 0.060999942779540905,\n",
       " 0.30400015258789104,\n",
       " 0.10700010108947744,\n",
       " -11.839000465393067,\n",
       " 0.3620000467300417,\n",
       " 0.11200000095367435,\n",
       " 0.1559999084472654,\n",
       " 0.09199997138977034,\n",
       " 3.315999988555908,\n",
       " 0.061999912261963,\n",
       " 0.08199990844726557,\n",
       " 0.1109999685287475,\n",
       " 0.12799999237060522,\n",
       " 12.157000099182127,\n",
       " 0.022000017166137642,\n",
       " 0.24100005722045914,\n",
       " 0.012999995231628425,\n",
       " 0.10700015258789097,\n",
       " 0.07599988174438455,\n",
       " 0.011000175476073792,\n",
       " 0.12299990463256849,\n",
       " -0.03399992942810037,\n",
       " 0.09100009918212892,\n",
       " 0.08699978637695338,\n",
       " 0.24999988746643087,\n",
       " 0.181999927520752,\n",
       " 0.8070002365112305,\n",
       " 0.14099989700317384,\n",
       " 0.14300009155273452,\n",
       " 0.08200004863738997,\n",
       " 0.2669998397827147,\n",
       " 2.734999981880188,\n",
       " 0.014999998569488415,\n",
       " 0.14299971771240294,\n",
       " 0.0940000305175781,\n",
       " 9.869999549865721,\n",
       " 0.07000009346008307,\n",
       " 0.13399996376037615,\n",
       " 0.08400022506713878,\n",
       " 0.12099997711181643,\n",
       " 0.09599990081787091,\n",
       " 0.1200000228881839,\n",
       " 0.1659999427795409,\n",
       " 0.06299999809265144,\n",
       " 0.17800000000000005,\n",
       " 0.3220000858306884,\n",
       " 0.15599989891052246,\n",
       " 0.023999979019164952,\n",
       " 0.15600003051757838,\n",
       " 0.15000010681152354,\n",
       " 0.08399993515014659,\n",
       " 0.1120000419616698,\n",
       " 0.03999997615814199,\n",
       " 0.12100007438659688,\n",
       " 0.11999989509582498,\n",
       " 0.09099990081787102,\n",
       " 10.270000004768372,\n",
       " 0.18999999999999995,\n",
       " 0.18499990272521982,\n",
       " 0.07099999809265145,\n",
       " 0.10899995803833029,\n",
       " 0.0760000743865965,\n",
       " 0.1190000801086426,\n",
       " 0.05599996185302736,\n",
       " 0.16699975585937565,\n",
       " 0.09100010299682637,\n",
       " 0.10399992179870621,\n",
       " 0.14899977874755876,\n",
       " 0.5939999084472656,\n",
       " 0.04100015640258814,\n",
       " 0.09700005722045901,\n",
       " 0.10399988174438457,\n",
       " 0.01900002574920645,\n",
       " 0.08200004196166999,\n",
       " 0.08100006103515511,\n",
       " 0.12999995422363275,\n",
       " 0.1229998836517332,\n",
       " 0.10699964904785197,\n",
       " 0.07500006103515622,\n",
       " 2.0860000352859496,\n",
       " 0.09399994087219232,\n",
       " 0.023000089645385913,\n",
       " 0.14199998283386228,\n",
       " 0.13899992561340335,\n",
       " -0.036000083923339865,\n",
       " 0.0499999780654905,\n",
       " 0.1560004425048831,\n",
       " 3.0490000057220463,\n",
       " 0.24800004959106436,\n",
       " 0.09299998855590808,\n",
       " 2.293999935150146,\n",
       " 0.07899999427795423,\n",
       " 0.12499989318847682,\n",
       " 0.11699988174438491,\n",
       " 0.09299998855590808,\n",
       " 0.0719999523162842,\n",
       " 0.026999997615814175,\n",
       " 0.24699977874755863,\n",
       " 0.08299997138977044,\n",
       " 0.14099994277954098,\n",
       " 0.07000000524520877,\n",
       " -0.04600000858306885,\n",
       " 0.11599993896484362,\n",
       " 0.2360000038146972,\n",
       " 0.09199990081787135,\n",
       " 0.14999996948242167,\n",
       " 6.1720002441406265,\n",
       " 0.04400008392333987,\n",
       " 0.09299995613098133,\n",
       " 0.39899994373321523,\n",
       " 0.13099996376037604,\n",
       " 0.08799997138977034,\n",
       " 0.07900010299682636,\n",
       " 0.18399990272521993,\n",
       " 0.03499954223632784,\n",
       " 0.08799957275390646,\n",
       " 0.054999944686889624,\n",
       " 0.04099995803832979,\n",
       " 0.05799999999999983,\n",
       " -0.11200025177002004,\n",
       " 0.07600008010864245,\n",
       " -0.2400000839233396,\n",
       " 0.1390000762939465,\n",
       " -1.250999794006347,\n",
       " 0.1270000648498537,\n",
       " 0.3799999694824221,\n",
       " 6.174999958038329,\n",
       " 0.137999988555908,\n",
       " 0.16200000762939437,\n",
       " 0.06300019836425719,\n",
       " 0.014000031471252505,\n",
       " 3.527000026702881,\n",
       " 0.13899977874755898,\n",
       " 0.09300006675720196,\n",
       " 0.2019992980957035,\n",
       " 0.10299997806549066,\n",
       " 0.014999908447265842,\n",
       " 0.027000112533569265,\n",
       " 0.28600020599365195,\n",
       " 0.11199992942810066,\n",
       " 0.09500007629394513,\n",
       " 0.09600010681152327,\n",
       " 5.36,\n",
       " 0.09000000667572028,\n",
       " 0.03699976730346677,\n",
       " 0.0849999856948851,\n",
       " 0.1640000190734865,\n",
       " 0.42499995326995865,\n",
       " 0.9189999122619632,\n",
       " -0.044999921798706044,\n",
       " 0.08599994087219232,\n",
       " 0.035999963760376064,\n",
       " 0.16500000572204587,\n",
       " 0.16299998664855941,\n",
       " 0.09500002479553205,\n",
       " 0.05099997329711936,\n",
       " 0.08499998092651362,\n",
       " 1.1899991149902327,\n",
       " 0.0920001487731934,\n",
       " 0.060000003814697056,\n",
       " -0.04499998474121103,\n",
       " 0.12200007629394527,\n",
       " 0.11600009918212884,\n",
       " 0.10999988937377925,\n",
       " -0.07600000476837154,\n",
       " 0.08399998092651373,\n",
       " 0.0770000171661378,\n",
       " 0.12000033569335855,\n",
       " 0.051000106811525114,\n",
       " 0.0009999504089357458,\n",
       " 0.10699991226196293,\n",
       " 0.11400001716613772,\n",
       " 0.14199990272521967,\n",
       " 0.5509999942779542,\n",
       " 0.0219999713897705,\n",
       " 0.06200010871887196,\n",
       " 0.11600010681152373,\n",
       " 0.08099997425079364,\n",
       " -0.018999990463256733,\n",
       " 0.22300003910064703,\n",
       " 0.07200000953674301,\n",
       " 0.07599993133544913,\n",
       " 0.12500004577636759,\n",
       " 0.14599996948242167,\n",
       " 0.11699996662139878,\n",
       " 0.06399967193603473,\n",
       " 0.11000186157226466,\n",
       " 0.10200005149841318,\n",
       " -0.18899997329711904,\n",
       " 0.06899993515014646,\n",
       " 0.11199993896484361,\n",
       " 0.14500009536743175,\n",
       " -0.07200059509277423,\n",
       " 0.6140000743865963,\n",
       " 0.11199992561340322,\n",
       " 0.4089999866485594,\n",
       " 0.110999966621399,\n",
       " 0.10299996662139899,\n",
       " 0.09099995803833005,\n",
       " 0.20599996948242172,\n",
       " 1.9969999837875365,\n",
       " 0.06699996757507343,\n",
       " 0.08600019836425687,\n",
       " -0.03399974060058675,\n",
       " 0.15900008392334009,\n",
       " 0.3600000281333924,\n",
       " 0.09699999284744254,\n",
       " 0.11200002384185792,\n",
       " 0.16100001716613765,\n",
       " -1.5870000457763673,\n",
       " -0.17599997901916486,\n",
       " 0.08499989891052229,\n",
       " 0.06199990844726555,\n",
       " 0.10800017166137721,\n",
       " 0.08700004386901838,\n",
       " 2.884999866485595,\n",
       " 0.09599988555908201,\n",
       " 5.835000021934509,\n",
       " 0.159999618530275,\n",
       " 0.16699996948242202,\n",
       " 0.16799997520446786,\n",
       " 0.043999921798706154,\n",
       " 0.11000001716613772,\n",
       " 0.01700003433227515,\n",
       " 0.08700000143051145,\n",
       " 0.040999897003173746,\n",
       " 0.2200002059936521,\n",
       " 0.09599998474121119,\n",
       " 0.13000021362304715,\n",
       " 9.581000049591065,\n",
       " 0.01399957275390662,\n",
       " 0.08400002670288087,\n",
       " 0.10800003051757834,\n",
       " 0.07299994277954092,\n",
       " 0.11199994659423806,\n",
       " 0.16800007629394553,\n",
       " 0.1290003662109367,\n",
       " 0.035999805450439126,\n",
       " 0.11199998092651331,\n",
       " 0.14200000572204585,\n",
       " 0.1570000276565553,\n",
       " 0.12099999523162841,\n",
       " 0.11100002479553228,\n",
       " 0.06499990272521972,\n",
       " 0.11999993515014662,\n",
       " 0.384000047683716,\n",
       " -4.288000106811523,\n",
       " 3.884000915527345,\n",
       " 6.824999935150146,\n",
       " 0.05399995613098163,\n",
       " 0.1789999027252196,\n",
       " 0.10299996376037601,\n",
       " 0.09899994373321519,\n",
       " 0.04699991035461437,\n",
       " 0.9470000495910647,\n",
       " 0.018000213623047046,\n",
       " 0.09299999809265147,\n",
       " 0.09199996185302739,\n",
       " 0.03299998569488527,\n",
       " -0.07799989318847622,\n",
       " 2.655000020980835,\n",
       " 0.198999975204468,\n",
       " -0.6899999046325682,\n",
       " -5.423999603271485,\n",
       " 0.08499997997283937,\n",
       " 0.04299989891052247,\n",
       " 0.0940000724792478,\n",
       " 0.05699996185302725,\n",
       " 0.1150000801086426,\n",
       " 0.020000036239624208,\n",
       " 0.152999942779541,\n",
       " 0.04200011062622089,\n",
       " 0.13199997138977038,\n",
       " 0.6700008544921872,\n",
       " 0.11000002956390387,\n",
       " 0.10300011444091783,\n",
       " 1.142000039100647,\n",
       " 0.13799988555908183,\n",
       " 0.09099990844726591,\n",
       " 0.0890001087188721,\n",
       " 0.16400000095367417,\n",
       " 0.07399994659423825,\n",
       " 0.21000001335144036,\n",
       " 0.1470001831054688,\n",
       " 0.13500019836425814,\n",
       " 0.0849999437332154,\n",
       " 0.09299991607666058,\n",
       " 0.11800000476837158,\n",
       " 0.15599958801269587,\n",
       " 0.08800010299682626,\n",
       " 0.09899994659423839,\n",
       " 0.32900002479553203,\n",
       " 0.041999991416931115,\n",
       " 0.5979999256134034,\n",
       " 0.08000009346008286,\n",
       " -0.35299997234344493,\n",
       " 0.3890001068115234,\n",
       " 1.1470001010894775,\n",
       " 0.06100006675720193,\n",
       " 0.2509992065429678,\n",
       " 0.10500007438659686,\n",
       " 0.04400002479553233,\n",
       " 10.797999114990233,\n",
       " 0.09900002765655525,\n",
       " -1.8740001678466793,\n",
       " -0.6540000686645508,\n",
       " 0.11700003814697268,\n",
       " 0.8700000972747803,\n",
       " 0.05999989509582537,\n",
       " 0.14900002861022932,\n",
       " 0.3269998855590819,\n",
       " 0.1549999599456786,\n",
       " 0.14700003051757804,\n",
       " 1.630000039100647,\n",
       " 0.06499999809265145,\n",
       " 0.10199999999999998,\n",
       " 0.0919999103546143,\n",
       " 0.13500010108947746,\n",
       " 0.038000000000000034,\n",
       " 0.170000110626221,\n",
       " 0.11200003814697279,\n",
       " 0.12499999046325705,\n",
       " 0.06600008392334011,\n",
       " 0.11799989891052265,\n",
       " 0.046999980926513696,\n",
       " 1.14600004196167,\n",
       " 11.761999990463258,\n",
       " 0.09500003242492672,\n",
       " 0.07100054931640543,\n",
       " 0.04800010299682622,\n",
       " 0.14999998855590824,\n",
       " 0.04999984359741205,\n",
       " 0.24000007629394515,\n",
       " 0.06799999618530261,\n",
       " 0.05699984741210962,\n",
       " 0.15299988365173345,\n",
       " 0.06900006103515643,\n",
       " 0.16800006484985364,\n",
       " 0.41500000190734854,\n",
       " 9.737999965667724,\n",
       " 0.0769998092651365,\n",
       " 0.1920003890991211,\n",
       " 0.07199995040893548,\n",
       " 0.7189999828338625,\n",
       " 0.3459999589920044,\n",
       " 0.09299989318847635,\n",
       " 0.10999980163574197,\n",
       " 0.10200000762939432,\n",
       " 0.7240000705718996,\n",
       " -0.01600001144409191,\n",
       " 0.993999572753907,\n",
       " -0.29899988174438485,\n",
       " 0.08500000762939486,\n",
       " 0.08000001716613792,\n",
       " 0.09499988937377957,\n",
       " 0.09299995803833028,\n",
       " 0.18500006484985354,\n",
       " 2.2420003204345704,\n",
       " 0.08799998855590818,\n",
       " 0.10800004577636724,\n",
       " 0.09300006866455135,\n",
       " 0.15499995422363266,\n",
       " 0.11399995613098146,\n",
       " 0.20199994659423837,\n",
       " 0.10300006866455069,\n",
       " 0.0900003128051754,\n",
       " 0.061999870300292415,\n",
       " 0.13700009155273385,\n",
       " 0.10899948120117031,\n",
       " 0.314000005722046,\n",
       " 0.18300000000000005,\n",
       " 10.735000091552735,\n",
       " -0.09399999237060541,\n",
       " 0.07800007629394523,\n",
       " 0.5139996032714862,\n",
       " 0.06899994087219241,\n",
       " 0.3699999551773072,\n",
       " 0.20400007438659662,\n",
       " 0.08799991798400875,\n",
       " 0.03999988174438496,\n",
       " 0.14899995803833033,\n",
       " 0.10600004959106446,\n",
       " 0.5830000505447388,\n",
       " 0.13399989128112821,\n",
       " -0.005999994277954279,\n",
       " 0.019999282836913324,\n",
       " -7.959000022888183,\n",
       " -0.2510001640319821,\n",
       " 0.005000038146972585,\n",
       " 0.0609999809265136,\n",
       " 2.5809996185302744,\n",
       " 0.09400010299682604,\n",
       " 0.42099999046325687,\n",
       " 0.14599994659423832,\n",
       " 0.22799997329711896,\n",
       " 7.749999961853028,\n",
       " 13.823000085830689,\n",
       " 0.16799995040893556,\n",
       " 0.7990001983642578,\n",
       " 5.354999252319335,\n",
       " 0.16999993705749494,\n",
       " 0.1269999313354493,\n",
       " 0.7969999160766603,\n",
       " 0.8659999980926512,\n",
       " 0.07200001335144046,\n",
       " 0.10300079345702784,\n",
       " 1.4930003967285153,\n",
       " 0.13399996376037593,\n",
       " 0.16400010490417483,\n",
       " 0.2240000572204588,\n",
       " 0.11699997711181709,\n",
       " 3.1549999637603756,\n",
       " 0.05199998664855965,\n",
       " 0.06299996852874745,\n",
       " 0.14399977111816398,\n",
       " 0.05800027465820179,\n",
       " 0.5579995269775395,\n",
       " -0.0039999408721924645,\n",
       " 0.0020000133514406215,\n",
       " 0.09099998664855935,\n",
       " 0.09299993896484393,\n",
       " 0.07999997806549075,\n",
       " 0.1259999084472656,\n",
       " 0.36799996566772464,\n",
       " 0.18099989700317387,\n",
       " -0.5149999837875365,\n",
       " 0.12400000572204584,\n",
       " 0.07699989318847678,\n",
       " 0.09300000143051146,\n",
       " 2.4970002975463856,\n",
       " 0.09500009536743148,\n",
       " 0.08700004196166988,\n",
       " 0.03799991607665998,\n",
       " 0.1119999694824223,\n",
       " 3.352000148773193,\n",
       " 1.4039999485015868,\n",
       " 0.17399982452392493,\n",
       " 0.12500009155273428,\n",
       " 0.6780000686645509,\n",
       " 0.08800008773803691,\n",
       " 0.03799993896484377,\n",
       " 0.03300005912780768,\n",
       " 0.05300010871887206,\n",
       " 0.12699997711181643,\n",
       " 0.13399996280670168,\n",
       " 1.792999786376953,\n",
       " -0.06600003814697253,\n",
       " 3.822999976158142,\n",
       " 0.19700013732910193,\n",
       " 0.13500011825561486,\n",
       " 0.15799996185302723,\n",
       " 0.10300011062622083,\n",
       " 0.09400002288818321,\n",
       " 0.04199994850158695,\n",
       " 0.5570000343322752,\n",
       " 0.13000004959106448,\n",
       " 0.1359999532699585,\n",
       " 0.3459998397827144,\n",
       " 0.08199992942810042,\n",
       " 0.050000021934509364,\n",
       " 0.13000019454956036,\n",
       " 0.4639999771118164,\n",
       " 0.1269998931884766,\n",
       " 0.013000046730041515,\n",
       " 0.09700008010864236,\n",
       " 0.13499988937377916,\n",
       " 0.1110000400543214,\n",
       " -0.07799990653991706,\n",
       " 0.04999988555908175,\n",
       " 3.229999282836914,\n",
       " 1.9139999904632568,\n",
       " 0.03300011825561544,\n",
       " 0.08600006103515634,\n",
       " 2.7830000801086427,\n",
       " 0.00999993896484419,\n",
       " 0.03899993133544921,\n",
       " 0.11399996948242208,\n",
       " 0.056000114440918125,\n",
       " 0.15700003051757827,\n",
       " 0.06699985504150341,\n",
       " 0.14800005722045917,\n",
       " 0.09900028228759794,\n",
       " 0.22499998378753672,\n",
       " 0.10599994277954083,\n",
       " -0.12100007057189943,\n",
       " 0.00799993515014652,\n",
       " 28.38600011062622,\n",
       " 1.4149999895095826,\n",
       " 0.04699974060058665,\n",
       " -1.3890002899169929,\n",
       " 0.09899998092651385,\n",
       " 0.13000010681152396,\n",
       " 0.10199998474121097,\n",
       " 0.09899980163574185,\n",
       " 0.17200028991699234,\n",
       " 0.17000004386901857,\n",
       " 0.16899984741210972,\n",
       " 0.15899993515014632,\n",
       " 0.06400006103515654,\n",
       " 0.09700000762939442,\n",
       " 0.1060000667572023,\n",
       " 0.1099995574951187,\n",
       " 0.08899991798400864,\n",
       " 0.0,\n",
       " -0.08699998474121085,\n",
       " 0.0559999961853026,\n",
       " 0.05900003242492691,\n",
       " 0.09700002861022927,\n",
       " -0.12299994850158713,\n",
       " 0.1189998836517332,\n",
       " 0.1629999675750733,\n",
       " 0.12799997615814207,\n",
       " 0.10499998283386236,\n",
       " 0.13100001525878913,\n",
       " 0.2649999809265138,\n",
       " 0.5479997634887699,\n",
       " 0.11999999618530266,\n",
       " 0.07400001144409174,\n",
       " 2.359000133514404,\n",
       " 0.06499988174438442,\n",
       " 0.2600004577636721,\n",
       " 0.20199991798400863,\n",
       " -0.005999897003174048,\n",
       " 0.07999999237060562,\n",
       " -2.825000213623047,\n",
       " 0.03799990844726553,\n",
       " 0.12700008392334006,\n",
       " 0.1140001182556154,\n",
       " 1.4730018920898402,\n",
       " 0.13800007820129379,\n",
       " 0.05399992752075189,\n",
       " -0.00900009155273418,\n",
       " 0.8459999389648436,\n",
       " 0.00900007629394528,\n",
       " 1.746999961853028,\n",
       " 0.14800000000000002,\n",
       " 0.073000023841858,\n",
       " 0.7369999046325684,\n",
       " 0.22799988555908168,\n",
       " 1.1600000410079958,\n",
       " 1.438999996185303,\n",
       " 0.08899980926513695,\n",
       " 0.1349999465942382,\n",
       " 0.11700008392333983,\n",
       " 0.09100005912780773,\n",
       " 0.12800083923339756,\n",
       " 0.09699997234344493,\n",
       " 0.07500000000000018,\n",
       " 0.025000259399414304,\n",
       " 0.09899991989135737,\n",
       " -0.0030000476837157564,\n",
       " 1.2950000801086423,\n",
       " 0.04700010490417483,\n",
       " 0.08000000381469707,\n",
       " 0.06299999856948857,\n",
       " 0.37600006103515593,\n",
       " -0.02199991798400891,\n",
       " 0.11599997711181631,\n",
       " 0.13400003528594961,\n",
       " 0.008000014305114655,\n",
       " 1.0420000171661377,\n",
       " -0.15699996566772478,\n",
       " 0.13400000667572032,\n",
       " 0.2609998817443846,\n",
       " 0.12500003242492674,\n",
       " 0.13900024414062528,\n",
       " 0.04000003814697273,\n",
       " 0.6949999313354489,\n",
       " 8.139000137329102,\n",
       " 11.861999885559083,\n",
       " 0.12699991226196294,\n",
       " 0.03899990844726542,\n",
       " 0.3940000133514405,\n",
       " 0.1400000896453859,\n",
       " 0.15399995422363277,\n",
       " 0.07800022888183555,\n",
       " 0.17900004673004144,\n",
       " 1.3500000252723692,\n",
       " 0.13900000381469724,\n",
       " 0.048000040054321236,\n",
       " 0.15799996948242168,\n",
       " 0.06899998188018808,\n",
       " 0.0789999237060548,\n",
       " 0.11399998283386248,\n",
       " 0.0959999122619628,\n",
       " 0.11700006675720198,\n",
       " 0.14699989509582512,\n",
       " 0.06199993133544934,\n",
       " 0.09299992752075159,\n",
       " 0.08999995422363272,\n",
       " 1.8440000553131104,\n",
       " 0.09599995803833039,\n",
       " 0.29700019073486317,\n",
       " 0.08399988555908244,\n",
       " 0.08199994659423826,\n",
       " 0.303000051498413,\n",
       " 0.381000030517578,\n",
       " 0.10399994754791253,\n",
       " -2.599000030517578,\n",
       " 2.5529998397827143,\n",
       " 0.1829998893737792,\n",
       " 0.2650003204345701,\n",
       " -0.028999902725219684,\n",
       " 0.1240000553131102,\n",
       " 0.12200010299682607,\n",
       " -2.643000244140625,\n",
       " 0.11300008201599132,\n",
       " 0.05199992370605466,\n",
       " 0.12400014495849643,\n",
       " 0.15599991035461436,\n",
       " 0.31899995803833003,\n",
       " 0.08599994087219232,\n",
       " 0.0860000152587892,\n",
       " 0.06499996662139895,\n",
       " 0.06299999427795422,\n",
       " 0.026000133514404666,\n",
       " 0.1849999942779541,\n",
       " 1.4400000724792488,\n",
       " 3.0189999427795406,\n",
       " 0.068000068664551,\n",
       " 0.013000026226043682,\n",
       " -0.05800008392333966,\n",
       " 0.12300003814697291,\n",
       " 0.11200004005432129,\n",
       " 0.07000001525878918,\n",
       " 18.764000148773192,\n",
       " 0.045000011444091825,\n",
       " 0.02900001907348626,\n",
       " 0.1590000572204593,\n",
       " 0.04400009346008282,\n",
       " 0.10500007629394537,\n",
       " 0.11600005912780764,\n",
       " 0.1649997024536134,\n",
       " 0.16199996948242212,\n",
       " 0.1160000133514405,\n",
       " 0.13300003433227525,\n",
       " 0.07499971008300754,\n",
       " 0.14199989128112778,\n",
       " 0.09899995899200431,\n",
       " -0.027999782562256215,\n",
       " 0.06499906921386867,\n",
       " 0.18100007820129393,\n",
       " 0.11999996185302741,\n",
       " 0.06099989509582526,\n",
       " 0.1020000839233397,\n",
       " 3.519999664306642,\n",
       " 0.08200014877319362,\n",
       " 0.22500006484985358,\n",
       " 0.10000002193450919,\n",
       " 0.13899997520446794,\n",
       " 0.08899983978271475,\n",
       " 0.08600016784667908,\n",
       " -0.3349999656677247,\n",
       " 0.08500007438659685,\n",
       " 0.016999982833862504,\n",
       " 0.11899997329711898,\n",
       " 0.14199990463256817,\n",
       " 0.1600001983642585,\n",
       " 11.149000101089477,\n",
       " 0.416000051498413,\n",
       " -0.09199988555908156,\n",
       " 0.10600005149841296,\n",
       " 0.09699998188018788,\n",
       " 0.19499996280670162,\n",
       " 0.06700000190734867,\n",
       " 0.2660000267028808,\n",
       " 1.1559997711181644,\n",
       " 0.12899990653991678,\n",
       " 0.1320000295639039,\n",
       " 0.18899995994567886,\n",
       " 0.059000019073486065,\n",
       " 0.14299993705749525,\n",
       " 0.10699991798400887,\n",
       " 0.1239997940063482,\n",
       " 0.11599994850158701,\n",
       " -0.28700000381469737,\n",
       " 0.0560002288818362,\n",
       " 0.08899995803833027,\n",
       " 0.1380000133514403,\n",
       " -7.7910003662109375,\n",
       " -2.139000038146973,\n",
       " 0.09199994277954104,\n",
       " 0.6470004577636708,\n",
       " 4.092000289916992,\n",
       " 0.12700021362304703,\n",
       " 0.07399996471405035,\n",
       " 0.13199998092651377,\n",
       " 0.2529999904632567,\n",
       " 0.1639999914169311,\n",
       " 0.5269999351501466,\n",
       " 0.13500000190734873,\n",
       " 1.8069999847412106,\n",
       " 0.052000118255615124,\n",
       " 3.34499998664856,\n",
       " 0.736000023841858,\n",
       " -1.7639999389648438,\n",
       " 2.597999885559082,\n",
       " 0.059999755859376336,\n",
       " 0.06499991989135756,\n",
       " 0.12600006866455082,\n",
       " 0.5159999904632566,\n",
       " 0.08400020980834988,\n",
       " 0.13000022888183604,\n",
       " 3.7440000286102295,\n",
       " 0.3400004196166986,\n",
       " 0.04999991607666043,\n",
       " 0.7069999313354494,\n",
       " 0.1420008239746089,\n",
       " 0.3409999990463257,\n",
       " 0.06599997901916499,\n",
       " 0.08000000953674302,\n",
       " 0.07600010299682625,\n",
       " 0.09699988555908234,\n",
       " ...]"
      ]
     },
     "execution_count": 66,
     "metadata": {},
     "output_type": "execute_result"
    }
   ],
   "source": [
    "base_line_error"
   ]
  },
  {
   "cell_type": "code",
   "execution_count": 70,
   "metadata": {},
   "outputs": [
    {
     "data": {
      "text/plain": [
       "0.5951943998979569"
      ]
     },
     "execution_count": 70,
     "metadata": {},
     "output_type": "execute_result"
    }
   ],
   "source": [
    "mae_baseline= np.mean(np.abs(base_line_error))\n",
    "mae_baseline"
   ]
  },
  {
   "cell_type": "markdown",
   "metadata": {},
   "source": [
    "👉 If you are stuck with this question, try `(4) LSTM` and come back to this afterwards.\n",
    "\n",
    "🧑🏻‍🏫 Ask a TA if needed. Look at the answer only if you already tried to answer these questions unsuccessfully.\n",
    "\n",
    "<details>\n",
    "    <summary><i>Answer</i></summary>\n",
    "\n",
    "\n",
    "```python\n",
    "def constant_prediction(X, y):\n",
    "    errors = []\n",
    "    for xx, yy in zip(X, y):\n",
    "        last_salary = xx[-1][0]        # Using the 10th salary to predict the 11th salary\n",
    "        errors.append(yy - last_salary)\n",
    "        \n",
    "    return errors    \n",
    "```\n",
    "    \n",
    "</details>    "
   ]
  },
  {
   "cell_type": "markdown",
   "metadata": {},
   "source": [
    "😁 You should notice that your RNN performs a bit better than a baseline model."
   ]
  },
  {
   "cell_type": "markdown",
   "metadata": {},
   "source": [
    "## (4) 💻 LSTM: Long-Short Term Memory"
   ]
  },
  {
   "cell_type": "markdown",
   "metadata": {},
   "source": [
    "❓ **Questions** ❓ \n",
    "\n",
    "* Write the exact same model, but with a `LSTM` layer instead of a `SimpleRNN` layer\n",
    "* Evaluate your performance on the test set"
   ]
  },
  {
   "cell_type": "code",
   "execution_count": 71,
   "metadata": {},
   "outputs": [],
   "source": [
    "from tensorflow.keras.layers import LSTM"
   ]
  },
  {
   "cell_type": "code",
   "execution_count": 82,
   "metadata": {},
   "outputs": [],
   "source": [
    "norm= Normalization()\n",
    "norm.adapt(X_train)"
   ]
  },
  {
   "cell_type": "code",
   "execution_count": 83,
   "metadata": {
    "tags": [
     "challengify"
    ]
   },
   "outputs": [],
   "source": [
    "model2= Sequential()\n",
    "model2.add(norm)\n",
    "model2.add(LSTM(32))\n",
    "model2.add(layers.Dense(10, activation='linear'))\n",
    "model2.add(layers.Dense(1, 'linear'))\n",
    "model2.compile(loss='mse', optimizer= 'rmsprop', metrics='mae')"
   ]
  },
  {
   "cell_type": "code",
   "execution_count": 84,
   "metadata": {},
   "outputs": [
    {
     "name": "stdout",
     "output_type": "stream",
     "text": [
      "Epoch 1/200\n",
      "320/320 [==============================] - 3s 5ms/step - loss: 12.9066 - mae: 1.5856 - val_loss: 2.1694 - val_mae: 0.7388\n",
      "Epoch 2/200\n",
      "320/320 [==============================] - 2s 5ms/step - loss: 1.9166 - mae: 0.5517 - val_loss: 0.9024 - val_mae: 0.4463\n",
      "Epoch 3/200\n",
      "320/320 [==============================] - 1s 4ms/step - loss: 0.8840 - mae: 0.3650 - val_loss: 0.6398 - val_mae: 0.3390\n",
      "Epoch 4/200\n",
      "320/320 [==============================] - 1s 4ms/step - loss: 0.7363 - mae: 0.3263 - val_loss: 0.5971 - val_mae: 0.3089\n",
      "Epoch 5/200\n",
      "320/320 [==============================] - 1s 4ms/step - loss: 0.6910 - mae: 0.3097 - val_loss: 0.5811 - val_mae: 0.2835\n",
      "Epoch 6/200\n",
      "320/320 [==============================] - 1s 4ms/step - loss: 0.6727 - mae: 0.3062 - val_loss: 0.5753 - val_mae: 0.2955\n",
      "Epoch 7/200\n",
      "320/320 [==============================] - 1s 4ms/step - loss: 0.6422 - mae: 0.3035 - val_loss: 0.5820 - val_mae: 0.2944\n",
      "Epoch 8/200\n",
      "320/320 [==============================] - 1s 4ms/step - loss: 0.6263 - mae: 0.2998 - val_loss: 0.7111 - val_mae: 0.3859\n",
      "Epoch 9/200\n",
      "320/320 [==============================] - 2s 6ms/step - loss: 0.6260 - mae: 0.2948 - val_loss: 0.5436 - val_mae: 0.2723\n",
      "Epoch 10/200\n",
      "320/320 [==============================] - 2s 7ms/step - loss: 0.6180 - mae: 0.2934 - val_loss: 0.8095 - val_mae: 0.4280\n",
      "Epoch 11/200\n",
      "320/320 [==============================] - 2s 6ms/step - loss: 0.5996 - mae: 0.2894 - val_loss: 0.7467 - val_mae: 0.4043\n",
      "Epoch 12/200\n",
      "320/320 [==============================] - 2s 7ms/step - loss: 0.6086 - mae: 0.2855 - val_loss: 0.5759 - val_mae: 0.3179\n",
      "Epoch 13/200\n",
      "320/320 [==============================] - 2s 6ms/step - loss: 0.5971 - mae: 0.2886 - val_loss: 0.5528 - val_mae: 0.2732\n",
      "Epoch 14/200\n",
      "320/320 [==============================] - 2s 6ms/step - loss: 0.5970 - mae: 0.2836 - val_loss: 0.5698 - val_mae: 0.2721\n"
     ]
    },
    {
     "data": {
      "text/plain": [
       "<keras.callbacks.History at 0x7efb3ff97e20>"
      ]
     },
     "execution_count": 84,
     "metadata": {},
     "output_type": "execute_result"
    }
   ],
   "source": [
    "es= EarlyStopping(patience=5)\n",
    "model2.fit(X_train, y_train, validation_split=0.2, callbacks=[es], epochs=200, batch_size=50)"
   ]
  },
  {
   "cell_type": "code",
   "execution_count": 85,
   "metadata": {},
   "outputs": [
    {
     "name": "stdout",
     "output_type": "stream",
     "text": [
      "157/157 [==============================] - 1s 2ms/step - loss: 0.6482 - mae: 0.2749\n"
     ]
    },
    {
     "data": {
      "text/plain": [
       "[0.6481837630271912, 0.27494919300079346]"
      ]
     },
     "execution_count": 85,
     "metadata": {},
     "output_type": "execute_result"
    }
   ],
   "source": [
    "model2.evaluate(X_test, y_test)"
   ]
  },
  {
   "cell_type": "markdown",
   "metadata": {},
   "source": [
    "💪 The LSTM should perform a bit better than the SimpleRNN with a lower MAE."
   ]
  },
  {
   "cell_type": "markdown",
   "metadata": {},
   "source": [
    "🏁 Congratulations! You know how to train a RNN on sequential data.\n",
    " \n",
    "\n",
    "💾 Do not forget to git add/commit/push your notebook...\n",
    "\n",
    "🚀 ... and move to the next challenge!\n",
    "\n",
    "---\n",
    "\n",
    "<u>Note</u>: The sequences you worked with are totally fake. In case, you need to train and reproduce similar data, you can find below the functions that have been used to simulate such a dataset."
   ]
  },
  {
   "cell_type": "markdown",
   "metadata": {},
   "source": [
    "## 🛠 (Utils)"
   ]
  },
  {
   "cell_type": "code",
   "execution_count": null,
   "metadata": {},
   "outputs": [],
   "source": [
    "def create_sequences(number):\n",
    "    X, y = [], []\n",
    "    \n",
    "    for i in range(number):\n",
    "        x_i, y_i = create_individual_sequence(10)\n",
    "        X.append(x_i)\n",
    "        y.append(y_i)\n",
    "        \n",
    "    return np.array(X), np.array(y)\n",
    "            \n",
    "def create_individual_sequence(length):\n",
    "    company_sizes = []\n",
    "    nb_persons = []\n",
    "    salaries = []\n",
    "    \n",
    "    \n",
    "    # Education level\n",
    "    educ_level = [max(0, int(np.random.normal(10, 2)))]*length\n",
    "    \n",
    "    # Company size\n",
    "    current_size = int(1 + np.random.beta(.4, 4)*500)\n",
    "    for i in range(length):\n",
    "        if not np.random.randint(4): # Change 1 out of 3 possibilities \n",
    "            current_size = int(max(1, np.random.normal(current_size, 50)))\n",
    "        company_sizes.append(current_size)\n",
    "    \n",
    "    # Number of persons\n",
    "    nb_iter = np.random.beta(.15, 4)*300\n",
    "    for i in range(length):\n",
    "        if not np.random.randint(2): # Change 1 out of 2 possibilities\n",
    "            R_1 = np.random.beta(0.5, 8)*3\n",
    "            nb_iter = nb_iter + max(-2, R_1*company_sizes[i] + np.random.randint(-2, 2))\n",
    "            nb_iter = max(0, nb_iter)\n",
    "            nb_iter = int(min(company_sizes[i]-1, nb_iter))\n",
    "        nb_persons.append(nb_iter)\n",
    "        \n",
    "    \n",
    "    # Salary\n",
    "    salary_iter = max(800, int(np.random.normal(1200, 300)+ 0.05*company_sizes[0] +  np.random.normal(40, 400)))\n",
    "    salaries.append(salary_iter)\n",
    "    for i in range(1, length + 1):\n",
    "        R_1 = np.random.normal(100, 50)\n",
    "        change_person = nb_persons[i-1] - nb_persons[i-2]\n",
    "        change_company = max(0, company_sizes[i-1] - company_sizes[i-2])\n",
    "        salary_iter = salary_iter + 0.05*change_company + change_person*R_1 + np.random.normal(100, 50)\n",
    "        salary_iter = max(int(salary_iter), 500)\n",
    "        \n",
    "        salaries.append(salary_iter)\n",
    "\n",
    "    y = salaries[-1]/1000\n",
    "    salaries = [_/1000 for _ in salaries[:-1]]\n",
    "    \n",
    "    return np.array([salaries, nb_persons, company_sizes]).T, y"
   ]
  },
  {
   "cell_type": "code",
   "execution_count": null,
   "metadata": {},
   "outputs": [],
   "source": [
    "#X, y = create_sequences(25000)\n",
    "\n",
    "#np.save('X', X.astype(np.float32))\n",
    "#np.save('y', y)"
   ]
  }
 ],
 "metadata": {
  "kernelspec": {
   "display_name": "Python 3 (ipykernel)",
   "language": "python",
   "name": "python3"
  },
  "language_info": {
   "codemirror_mode": {
    "name": "ipython",
    "version": 3
   },
   "file_extension": ".py",
   "mimetype": "text/x-python",
   "name": "python",
   "nbconvert_exporter": "python",
   "pygments_lexer": "ipython3",
   "version": "3.10.6"
  },
  "toc": {
   "base_numbering": 1,
   "nav_menu": {},
   "number_sections": true,
   "sideBar": true,
   "skip_h1_title": false,
   "title_cell": "Table of Contents",
   "title_sidebar": "Contents",
   "toc_cell": false,
   "toc_position": {},
   "toc_section_display": true,
   "toc_window_display": false
  }
 },
 "nbformat": 4,
 "nbformat_minor": 4
}
